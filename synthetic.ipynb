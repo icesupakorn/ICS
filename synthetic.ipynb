{
 "cells": [
  {
   "cell_type": "markdown",
   "id": "dc2f625b",
   "metadata": {},
   "source": [
    "# Synthetic data iPython Notebook"
   ]
  },
  {
   "cell_type": "code",
   "execution_count": 1,
   "id": "7d558720",
   "metadata": {},
   "outputs": [
    {
     "name": "stderr",
     "output_type": "stream",
     "text": [
      "1: E999 SyntaxError: invalid syntax\n"
     ]
    }
   ],
   "source": [
    "# import the necessary libraries\n",
    "import pandas as pd\n",
    "import numpy as np\n",
    "import matplotlib as mpl\n",
    "import matplotlib.pyplot as plt\n",
    "import doctest\n",
    "%load_ext pycodestyle_magic\n",
    "%flake8_on"
   ]
  },
  {
   "cell_type": "code",
   "execution_count": 2,
   "id": "7be1f301",
   "metadata": {},
   "outputs": [
    {
     "data": {
      "text/plain": [
       "TestResults(failed=0, attempted=4)"
      ]
     },
     "execution_count": 2,
     "metadata": {},
     "output_type": "execute_result"
    }
   ],
   "source": [
    "# defining function for generating variables\n",
    "def generate_normal_variables(mean, varience, samples):\n",
    "    \"\"\"\n",
    "    This fuction returns the a noramlly distributed Numpy array based on the\n",
    "    sepcify mean, variance and number of samples\n",
    "    >>> np.random.seed(10)\n",
    "    >>> generate_normal_variables(5, 10, 5)\n",
    "    array([9.21084625, 7.26191072, 0.11301518, 4.97348794, 6.96483687])\n",
    "    \"\"\"\n",
    "    standard_deviation = np.sqrt(varience)\n",
    "    return np.random.normal(mean, standard_deviation, samples)\n",
    "\n",
    "\n",
    "def generate_discrete_variables(variables, propabilities, samples):\n",
    "    \"\"\"\"\"\n",
    "    This fuctions return a numpy array with discrete distribution of variables\n",
    "    based on the specify vairables, its relative propablities, and number of\n",
    "    samples\n",
    "    >>> np.random.seed(10)\n",
    "    >>> generate_discrete_variables(['a', 'b', 'c'], [0.1, 0.8, 0.1], 10)\n",
    "    array(['b', 'a', 'b', 'b', 'b', 'b', 'b', 'b', 'b', 'a'], dtype='<U1')\n",
    "    \"\"\"\"\"\n",
    "    return np.random.choice(variables, samples, p=propabilities)\n",
    "\n",
    "\n",
    "doctest.testmod()"
   ]
  },
  {
   "cell_type": "code",
   "execution_count": 3,
   "id": "cf2514c9",
   "metadata": {},
   "outputs": [
    {
     "name": "stdout",
     "output_type": "stream",
     "text": [
      "(205, 26)\n"
     ]
    },
    {
     "data": {
      "text/html": [
       "<div>\n",
       "<style scoped>\n",
       "    .dataframe tbody tr th:only-of-type {\n",
       "        vertical-align: middle;\n",
       "    }\n",
       "\n",
       "    .dataframe tbody tr th {\n",
       "        vertical-align: top;\n",
       "    }\n",
       "\n",
       "    .dataframe thead th {\n",
       "        text-align: right;\n",
       "    }\n",
       "</style>\n",
       "<table border=\"1\" class=\"dataframe\">\n",
       "  <thead>\n",
       "    <tr style=\"text-align: right;\">\n",
       "      <th></th>\n",
       "      <th>symboling</th>\n",
       "      <th>normalized losses</th>\n",
       "      <th>make</th>\n",
       "      <th>fuel type</th>\n",
       "      <th>aspiration</th>\n",
       "      <th>num of doors</th>\n",
       "      <th>body style</th>\n",
       "      <th>drive wheels</th>\n",
       "      <th>engine location</th>\n",
       "      <th>wheelbase</th>\n",
       "      <th>...</th>\n",
       "      <th>engine size</th>\n",
       "      <th>fuel system</th>\n",
       "      <th>bore</th>\n",
       "      <th>stroke</th>\n",
       "      <th>compression ratio</th>\n",
       "      <th>horsepower</th>\n",
       "      <th>peak rpm</th>\n",
       "      <th>city mpg</th>\n",
       "      <th>highway mpg</th>\n",
       "      <th>price</th>\n",
       "    </tr>\n",
       "  </thead>\n",
       "  <tbody>\n",
       "    <tr>\n",
       "      <th>0</th>\n",
       "      <td>3</td>\n",
       "      <td>?</td>\n",
       "      <td>alfa-romero</td>\n",
       "      <td>gas</td>\n",
       "      <td>std</td>\n",
       "      <td>two</td>\n",
       "      <td>convertible</td>\n",
       "      <td>rwd</td>\n",
       "      <td>front</td>\n",
       "      <td>88.6</td>\n",
       "      <td>...</td>\n",
       "      <td>130</td>\n",
       "      <td>mpfi</td>\n",
       "      <td>3.47</td>\n",
       "      <td>2.68</td>\n",
       "      <td>9.0</td>\n",
       "      <td>111</td>\n",
       "      <td>5000</td>\n",
       "      <td>21</td>\n",
       "      <td>27</td>\n",
       "      <td>13495</td>\n",
       "    </tr>\n",
       "    <tr>\n",
       "      <th>1</th>\n",
       "      <td>3</td>\n",
       "      <td>?</td>\n",
       "      <td>alfa-romero</td>\n",
       "      <td>gas</td>\n",
       "      <td>std</td>\n",
       "      <td>two</td>\n",
       "      <td>convertible</td>\n",
       "      <td>rwd</td>\n",
       "      <td>front</td>\n",
       "      <td>88.6</td>\n",
       "      <td>...</td>\n",
       "      <td>130</td>\n",
       "      <td>mpfi</td>\n",
       "      <td>3.47</td>\n",
       "      <td>2.68</td>\n",
       "      <td>9.0</td>\n",
       "      <td>111</td>\n",
       "      <td>5000</td>\n",
       "      <td>21</td>\n",
       "      <td>27</td>\n",
       "      <td>16500</td>\n",
       "    </tr>\n",
       "    <tr>\n",
       "      <th>2</th>\n",
       "      <td>1</td>\n",
       "      <td>?</td>\n",
       "      <td>alfa-romero</td>\n",
       "      <td>gas</td>\n",
       "      <td>std</td>\n",
       "      <td>two</td>\n",
       "      <td>hatchback</td>\n",
       "      <td>rwd</td>\n",
       "      <td>front</td>\n",
       "      <td>94.5</td>\n",
       "      <td>...</td>\n",
       "      <td>152</td>\n",
       "      <td>mpfi</td>\n",
       "      <td>2.68</td>\n",
       "      <td>3.47</td>\n",
       "      <td>9.0</td>\n",
       "      <td>154</td>\n",
       "      <td>5000</td>\n",
       "      <td>19</td>\n",
       "      <td>26</td>\n",
       "      <td>16500</td>\n",
       "    </tr>\n",
       "    <tr>\n",
       "      <th>3</th>\n",
       "      <td>2</td>\n",
       "      <td>164</td>\n",
       "      <td>audi</td>\n",
       "      <td>gas</td>\n",
       "      <td>std</td>\n",
       "      <td>four</td>\n",
       "      <td>sedan</td>\n",
       "      <td>fwd</td>\n",
       "      <td>front</td>\n",
       "      <td>99.8</td>\n",
       "      <td>...</td>\n",
       "      <td>109</td>\n",
       "      <td>mpfi</td>\n",
       "      <td>3.19</td>\n",
       "      <td>3.40</td>\n",
       "      <td>10.0</td>\n",
       "      <td>102</td>\n",
       "      <td>5500</td>\n",
       "      <td>24</td>\n",
       "      <td>30</td>\n",
       "      <td>13950</td>\n",
       "    </tr>\n",
       "    <tr>\n",
       "      <th>4</th>\n",
       "      <td>2</td>\n",
       "      <td>164</td>\n",
       "      <td>audi</td>\n",
       "      <td>gas</td>\n",
       "      <td>std</td>\n",
       "      <td>four</td>\n",
       "      <td>sedan</td>\n",
       "      <td>4wd</td>\n",
       "      <td>front</td>\n",
       "      <td>99.4</td>\n",
       "      <td>...</td>\n",
       "      <td>136</td>\n",
       "      <td>mpfi</td>\n",
       "      <td>3.19</td>\n",
       "      <td>3.40</td>\n",
       "      <td>8.0</td>\n",
       "      <td>115</td>\n",
       "      <td>5500</td>\n",
       "      <td>18</td>\n",
       "      <td>22</td>\n",
       "      <td>17450</td>\n",
       "    </tr>\n",
       "  </tbody>\n",
       "</table>\n",
       "<p>5 rows × 26 columns</p>\n",
       "</div>"
      ],
      "text/plain": [
       "   symboling normalized losses         make fuel type aspiration num of doors  \\\n",
       "0          3                 ?  alfa-romero       gas        std          two   \n",
       "1          3                 ?  alfa-romero       gas        std          two   \n",
       "2          1                 ?  alfa-romero       gas        std          two   \n",
       "3          2               164         audi       gas        std         four   \n",
       "4          2               164         audi       gas        std         four   \n",
       "\n",
       "    body style drive wheels engine location  wheelbase  ...  engine size  \\\n",
       "0  convertible          rwd           front       88.6  ...          130   \n",
       "1  convertible          rwd           front       88.6  ...          130   \n",
       "2    hatchback          rwd           front       94.5  ...          152   \n",
       "3        sedan          fwd           front       99.8  ...          109   \n",
       "4        sedan          4wd           front       99.4  ...          136   \n",
       "\n",
       "   fuel system  bore  stroke compression ratio horsepower  peak rpm city mpg  \\\n",
       "0         mpfi  3.47    2.68               9.0        111      5000       21   \n",
       "1         mpfi  3.47    2.68               9.0        111      5000       21   \n",
       "2         mpfi  2.68    3.47               9.0        154      5000       19   \n",
       "3         mpfi  3.19    3.40              10.0        102      5500       24   \n",
       "4         mpfi  3.19    3.40               8.0        115      5500       18   \n",
       "\n",
       "  highway mpg  price  \n",
       "0          27  13495  \n",
       "1          27  16500  \n",
       "2          26  16500  \n",
       "3          30  13950  \n",
       "4          22  17450  \n",
       "\n",
       "[5 rows x 26 columns]"
      ]
     },
     "execution_count": 3,
     "metadata": {},
     "output_type": "execute_result"
    }
   ],
   "source": [
    "# import the CSV file\n",
    "# source: https://archive.ics.uci.edu/ml/machine-learning-databases/auto-mpg/\n",
    "file_path = 'imports-85.data'\n",
    "headers = ['symboling', 'normalized losses', 'make', 'fuel type', 'aspiration',\n",
    "           'num of doors', 'body style', 'drive wheels', 'engine location', 'w'\n",
    "           + 'heelbase', 'length', 'width', 'height', 'curb weight', 'engine t'\n",
    "           + 'ype', 'num of cylinders', 'engine size', 'fuel system', 'bore',\n",
    "           'stroke', 'compression ratio', 'horsepower', 'peak rpm', 'city mpg',\n",
    "           'highway mpg', 'price']\n",
    "df = pd.read_csv(file_path, header=None)\n",
    "df.columns = headers\n",
    "print(df.shape)\n",
    "df.head()\n"
   ]
  },
  {
   "cell_type": "code",
   "execution_count": 4,
   "id": "8e008b5c",
   "metadata": {},
   "outputs": [
    {
     "name": "stdout",
     "output_type": "stream",
     "text": [
      "(205, 4)\n"
     ]
    },
    {
     "data": {
      "text/html": [
       "<div>\n",
       "<style scoped>\n",
       "    .dataframe tbody tr th:only-of-type {\n",
       "        vertical-align: middle;\n",
       "    }\n",
       "\n",
       "    .dataframe tbody tr th {\n",
       "        vertical-align: top;\n",
       "    }\n",
       "\n",
       "    .dataframe thead th {\n",
       "        text-align: right;\n",
       "    }\n",
       "</style>\n",
       "<table border=\"1\" class=\"dataframe\">\n",
       "  <thead>\n",
       "    <tr style=\"text-align: right;\">\n",
       "      <th></th>\n",
       "      <th>make</th>\n",
       "      <th>wheelbase</th>\n",
       "      <th>horsepower</th>\n",
       "      <th>price</th>\n",
       "    </tr>\n",
       "  </thead>\n",
       "  <tbody>\n",
       "    <tr>\n",
       "      <th>0</th>\n",
       "      <td>alfa-romero</td>\n",
       "      <td>88.6</td>\n",
       "      <td>111</td>\n",
       "      <td>13495</td>\n",
       "    </tr>\n",
       "    <tr>\n",
       "      <th>1</th>\n",
       "      <td>alfa-romero</td>\n",
       "      <td>88.6</td>\n",
       "      <td>111</td>\n",
       "      <td>16500</td>\n",
       "    </tr>\n",
       "    <tr>\n",
       "      <th>2</th>\n",
       "      <td>alfa-romero</td>\n",
       "      <td>94.5</td>\n",
       "      <td>154</td>\n",
       "      <td>16500</td>\n",
       "    </tr>\n",
       "    <tr>\n",
       "      <th>3</th>\n",
       "      <td>audi</td>\n",
       "      <td>99.8</td>\n",
       "      <td>102</td>\n",
       "      <td>13950</td>\n",
       "    </tr>\n",
       "    <tr>\n",
       "      <th>4</th>\n",
       "      <td>audi</td>\n",
       "      <td>99.4</td>\n",
       "      <td>115</td>\n",
       "      <td>17450</td>\n",
       "    </tr>\n",
       "  </tbody>\n",
       "</table>\n",
       "</div>"
      ],
      "text/plain": [
       "          make  wheelbase horsepower  price\n",
       "0  alfa-romero       88.6        111  13495\n",
       "1  alfa-romero       88.6        111  16500\n",
       "2  alfa-romero       94.5        154  16500\n",
       "3         audi       99.8        102  13950\n",
       "4         audi       99.4        115  17450"
      ]
     },
     "execution_count": 4,
     "metadata": {},
     "output_type": "execute_result"
    }
   ],
   "source": [
    "# selecting the variables from Dataframe\n",
    "pd.set_option('display.max_rows', 1000)\n",
    "selected_df = df[['make', 'wheelbase', 'horsepower', 'price']]\n",
    "print(selected_df.shape)\n",
    "selected_df.head()"
   ]
  },
  {
   "cell_type": "code",
   "execution_count": 5,
   "id": "29514537",
   "metadata": {},
   "outputs": [
    {
     "data": {
      "text/plain": [
       "make           object\n",
       "wheelbase     float64\n",
       "horsepower     object\n",
       "price          object\n",
       "dtype: object"
      ]
     },
     "execution_count": 5,
     "metadata": {},
     "output_type": "execute_result"
    }
   ],
   "source": [
    "selected_df.dtypes"
   ]
  },
  {
   "cell_type": "code",
   "execution_count": 6,
   "id": "df90ac63",
   "metadata": {},
   "outputs": [
    {
     "data": {
      "text/html": [
       "<div>\n",
       "<style scoped>\n",
       "    .dataframe tbody tr th:only-of-type {\n",
       "        vertical-align: middle;\n",
       "    }\n",
       "\n",
       "    .dataframe tbody tr th {\n",
       "        vertical-align: top;\n",
       "    }\n",
       "\n",
       "    .dataframe thead th {\n",
       "        text-align: right;\n",
       "    }\n",
       "</style>\n",
       "<table border=\"1\" class=\"dataframe\">\n",
       "  <thead>\n",
       "    <tr style=\"text-align: right;\">\n",
       "      <th></th>\n",
       "      <th>horsepower</th>\n",
       "    </tr>\n",
       "  </thead>\n",
       "  <tbody>\n",
       "    <tr>\n",
       "      <th>130</th>\n",
       "      <td>?</td>\n",
       "    </tr>\n",
       "    <tr>\n",
       "      <th>131</th>\n",
       "      <td>?</td>\n",
       "    </tr>\n",
       "  </tbody>\n",
       "</table>\n",
       "</div>"
      ],
      "text/plain": [
       "    horsepower\n",
       "130          ?\n",
       "131          ?"
      ]
     },
     "execution_count": 6,
     "metadata": {},
     "output_type": "execute_result"
    }
   ],
   "source": [
    "# data cleaning\n",
    "selected_df.loc[selected_df['horsepower'] == '?', ['horsepower']]"
   ]
  },
  {
   "cell_type": "code",
   "execution_count": 7,
   "id": "fe86dec4",
   "metadata": {},
   "outputs": [
    {
     "data": {
      "text/html": [
       "<div>\n",
       "<style scoped>\n",
       "    .dataframe tbody tr th:only-of-type {\n",
       "        vertical-align: middle;\n",
       "    }\n",
       "\n",
       "    .dataframe tbody tr th {\n",
       "        vertical-align: top;\n",
       "    }\n",
       "\n",
       "    .dataframe thead th {\n",
       "        text-align: right;\n",
       "    }\n",
       "</style>\n",
       "<table border=\"1\" class=\"dataframe\">\n",
       "  <thead>\n",
       "    <tr style=\"text-align: right;\">\n",
       "      <th></th>\n",
       "      <th>price</th>\n",
       "    </tr>\n",
       "  </thead>\n",
       "  <tbody>\n",
       "    <tr>\n",
       "      <th>9</th>\n",
       "      <td>?</td>\n",
       "    </tr>\n",
       "    <tr>\n",
       "      <th>44</th>\n",
       "      <td>?</td>\n",
       "    </tr>\n",
       "    <tr>\n",
       "      <th>45</th>\n",
       "      <td>?</td>\n",
       "    </tr>\n",
       "    <tr>\n",
       "      <th>129</th>\n",
       "      <td>?</td>\n",
       "    </tr>\n",
       "  </tbody>\n",
       "</table>\n",
       "</div>"
      ],
      "text/plain": [
       "    price\n",
       "9       ?\n",
       "44      ?\n",
       "45      ?\n",
       "129     ?"
      ]
     },
     "execution_count": 7,
     "metadata": {},
     "output_type": "execute_result"
    }
   ],
   "source": [
    "selected_df.loc[selected_df['price'] == '?', ['price']]"
   ]
  },
  {
   "cell_type": "code",
   "execution_count": 8,
   "id": "7fef0cef",
   "metadata": {},
   "outputs": [
    {
     "name": "stderr",
     "output_type": "stream",
     "text": [
      "C:\\Users\\Ice\\anaconda3\\lib\\site-packages\\pandas\\core\\indexing.py:1720: SettingWithCopyWarning: \n",
      "A value is trying to be set on a copy of a slice from a DataFrame.\n",
      "Try using .loc[row_indexer,col_indexer] = value instead\n",
      "\n",
      "See the caveats in the documentation: https://pandas.pydata.org/pandas-docs/stable/user_guide/indexing.html#returning-a-view-versus-a-copy\n",
      "  self._setitem_single_column(loc, value, pi)\n"
     ]
    }
   ],
   "source": [
    "selected_df.loc[selected_df['horsepower'] == '?', ['horsepower']] = np.nan\n",
    "selected_df.loc[selected_df['price'] == '?', ['price']] = np.nan"
   ]
  },
  {
   "cell_type": "code",
   "execution_count": 9,
   "id": "aa5d82f7",
   "metadata": {},
   "outputs": [
    {
     "name": "stderr",
     "output_type": "stream",
     "text": [
      "<ipython-input-9-3e24def05000>:1: SettingWithCopyWarning: \n",
      "A value is trying to be set on a copy of a slice from a DataFrame.\n",
      "Try using .loc[row_indexer,col_indexer] = value instead\n",
      "\n",
      "See the caveats in the documentation: https://pandas.pydata.org/pandas-docs/stable/user_guide/indexing.html#returning-a-view-versus-a-copy\n",
      "  selected_df['horsepower'] = selected_df[['horsepower']].astype(float)\n",
      "<ipython-input-9-3e24def05000>:2: SettingWithCopyWarning: \n",
      "A value is trying to be set on a copy of a slice from a DataFrame.\n",
      "Try using .loc[row_indexer,col_indexer] = value instead\n",
      "\n",
      "See the caveats in the documentation: https://pandas.pydata.org/pandas-docs/stable/user_guide/indexing.html#returning-a-view-versus-a-copy\n",
      "  selected_df['price'] = selected_df[['price']].astype(float)\n"
     ]
    },
    {
     "data": {
      "text/plain": [
       "make           object\n",
       "wheelbase     float64\n",
       "horsepower    float64\n",
       "price         float64\n",
       "dtype: object"
      ]
     },
     "execution_count": 9,
     "metadata": {},
     "output_type": "execute_result"
    }
   ],
   "source": [
    "selected_df['horsepower'] = selected_df[['horsepower']].astype(float)\n",
    "selected_df['price'] = selected_df[['price']].astype(float)\n",
    "selected_df.dtypes"
   ]
  },
  {
   "cell_type": "code",
   "execution_count": 21,
   "id": "74356ba2",
   "metadata": {},
   "outputs": [],
   "source": [
    "# conducting necessary analysis on the data\n",
    "observations = selected_df.shape[0]\n",
    "make_dictionary = selected_df['make'].value_counts()\n",
    "brands = make_dictionary.keys().values.tolist()\n",
    "brands_count = make_dictionary.values\n",
    "relative_frequency = (brands_count / observations).tolist()\n",
    "wheelbase_mean = selected_df['wheelbase'].mean(0)\n",
    "wheelbase_varience = selected_df['wheelbase'].var(0)\n",
    "horsepower_mean = selected_df['horsepower'].mean(0)\n",
    "horsepower_varience = selected_df['horsepower'].var(0)\n",
    "price_mean = selected_df['price'].mean(0)\n",
    "price_varience = selected_df['price'].var(0)"
   ]
  },
  {
   "cell_type": "code",
   "execution_count": 28,
   "id": "9cd329c3",
   "metadata": {
    "scrolled": true
   },
   "outputs": [
    {
     "data": {
      "text/html": [
       "<div>\n",
       "<style scoped>\n",
       "    .dataframe tbody tr th:only-of-type {\n",
       "        vertical-align: middle;\n",
       "    }\n",
       "\n",
       "    .dataframe tbody tr th {\n",
       "        vertical-align: top;\n",
       "    }\n",
       "\n",
       "    .dataframe thead th {\n",
       "        text-align: right;\n",
       "    }\n",
       "</style>\n",
       "<table border=\"1\" class=\"dataframe\">\n",
       "  <thead>\n",
       "    <tr style=\"text-align: right;\">\n",
       "      <th></th>\n",
       "      <th>make</th>\n",
       "      <th>wheelbase</th>\n",
       "      <th>horsepower</th>\n",
       "      <th>price</th>\n",
       "    </tr>\n",
       "  </thead>\n",
       "  <tbody>\n",
       "    <tr>\n",
       "      <th>0</th>\n",
       "      <td>mercedes-benz</td>\n",
       "      <td>106.512980</td>\n",
       "      <td>77.468887</td>\n",
       "      <td>16691.050944</td>\n",
       "    </tr>\n",
       "    <tr>\n",
       "      <th>1</th>\n",
       "      <td>saab</td>\n",
       "      <td>91.187115</td>\n",
       "      <td>147.767520</td>\n",
       "      <td>9577.412323</td>\n",
       "    </tr>\n",
       "    <tr>\n",
       "      <th>2</th>\n",
       "      <td>nissan</td>\n",
       "      <td>87.796837</td>\n",
       "      <td>70.637029</td>\n",
       "      <td>5150.764897</td>\n",
       "    </tr>\n",
       "    <tr>\n",
       "      <th>3</th>\n",
       "      <td>peugot</td>\n",
       "      <td>97.934979</td>\n",
       "      <td>47.745445</td>\n",
       "      <td>11156.159705</td>\n",
       "    </tr>\n",
       "    <tr>\n",
       "      <th>4</th>\n",
       "      <td>nissan</td>\n",
       "      <td>85.927628</td>\n",
       "      <td>110.371158</td>\n",
       "      <td>6707.692036</td>\n",
       "    </tr>\n",
       "    <tr>\n",
       "      <th>5</th>\n",
       "      <td>mazda</td>\n",
       "      <td>95.261397</td>\n",
       "      <td>151.309953</td>\n",
       "      <td>18228.090277</td>\n",
       "    </tr>\n",
       "    <tr>\n",
       "      <th>6</th>\n",
       "      <td>mercedes-benz</td>\n",
       "      <td>94.462649</td>\n",
       "      <td>54.479456</td>\n",
       "      <td>6804.854023</td>\n",
       "    </tr>\n",
       "    <tr>\n",
       "      <th>7</th>\n",
       "      <td>alfa-romero</td>\n",
       "      <td>101.973638</td>\n",
       "      <td>126.069717</td>\n",
       "      <td>41889.368934</td>\n",
       "    </tr>\n",
       "    <tr>\n",
       "      <th>8</th>\n",
       "      <td>volkswagen</td>\n",
       "      <td>100.525212</td>\n",
       "      <td>131.848474</td>\n",
       "      <td>11465.593519</td>\n",
       "    </tr>\n",
       "    <tr>\n",
       "      <th>9</th>\n",
       "      <td>honda</td>\n",
       "      <td>89.089083</td>\n",
       "      <td>80.417602</td>\n",
       "      <td>6562.815730</td>\n",
       "    </tr>\n",
       "  </tbody>\n",
       "</table>\n",
       "</div>"
      ],
      "text/plain": [
       "            make   wheelbase  horsepower         price\n",
       "0  mercedes-benz  106.512980   77.468887  16691.050944\n",
       "1           saab   91.187115  147.767520   9577.412323\n",
       "2         nissan   87.796837   70.637029   5150.764897\n",
       "3         peugot   97.934979   47.745445  11156.159705\n",
       "4         nissan   85.927628  110.371158   6707.692036\n",
       "5          mazda   95.261397  151.309953  18228.090277\n",
       "6  mercedes-benz   94.462649   54.479456   6804.854023\n",
       "7    alfa-romero  101.973638  126.069717  41889.368934\n",
       "8     volkswagen  100.525212  131.848474  11465.593519\n",
       "9          honda   89.089083   80.417602   6562.815730"
      ]
     },
     "execution_count": 28,
     "metadata": {},
     "output_type": "execute_result"
    }
   ],
   "source": [
    "# generating synthetic data\n",
    "synthetic_df = pd.DataFrame(columns=['make', 'wheelbase', 'horsepower', 'price'\n",
    "                                     ])\n",
    "synthetic_df['make'] = generate_discrete_variables(brands,\n",
    "                                                   relative_frequency, 100)\n",
    "synthetic_df['wheelbase'] = generate_normal_variables(wheelbase_mean,\n",
    "                                                      wheelbase_varience, 100)\n",
    "synthetic_df['horsepower'] = generate_normal_variables(horsepower_mean,\n",
    "                                                       horsepower_varience,\n",
    "                                                       100)\n",
    "synthetic_df['price'] = generate_normal_variables(price_mean,\n",
    "                                                  price_varience, 100)\n",
    "synthetic_df.head(10)"
   ]
  },
  {
   "cell_type": "code",
   "execution_count": 29,
   "id": "63b9858b",
   "metadata": {},
   "outputs": [],
   "source": [
    "# saving synthetic data to csv file\n",
    "synthetic_df.to_csv('synthetic.csv')"
   ]
  },
  {
   "cell_type": "code",
   "execution_count": 30,
   "id": "04cd0de2",
   "metadata": {},
   "outputs": [
    {
     "data": {
      "image/png": "[encoded data removed]",
      "text/plain": [
       "<Figure size 1080x432 with 3 Axes>"
      ]
     },
     "metadata": {
      "needs_background": "light"
     },
     "output_type": "display_data"
    }
   ],
   "source": [
    "# virtualising the original data\n",
    "plt.figure(1, figsize=(15, 6))\n",
    "n = 0\n",
    "for x in ['wheelbase', 'horsepower', 'price']:\n",
    "    n += 1\n",
    "    plt.subplot(1, 3, n)\n",
    "    plt.subplots_adjust(hspace=1, wspace=0.2)\n",
    "    plt.hist(selected_df[x])\n",
    "    plt.title('Distribution of {}'.format(x))\n",
    "    plt.xlabel(x)\n",
    "    plt.ylabel('frequency')\n",
    "plt.show()"
   ]
  },
  {
   "cell_type": "code",
   "execution_count": 31,
   "id": "88ac9f20",
   "metadata": {},
   "outputs": [
    {
     "data": {
      "image/png": "[encoded data removed]",
      "text/plain": [
       "<Figure size 1080x432 with 1 Axes>"
      ]
     },
     "metadata": {
      "needs_background": "light"
     },
     "output_type": "display_data"
    }
   ],
   "source": [
    "plt.figure(1, figsize=(15, 6))\n",
    "plt.barh(brands, brands_count, 0.5)\n",
    "plt.title('Distribution of car brands')\n",
    "plt.xlabel('car brands')\n",
    "plt.ylabel('number of car')\n",
    "plt.show()"
   ]
  },
  {
   "cell_type": "code",
   "execution_count": 32,
   "id": "49795917",
   "metadata": {},
   "outputs": [
    {
     "data": {
      "image/png": "[encoded data removed]",
      "text/plain": [
       "<Figure size 1080x432 with 3 Axes>"
      ]
     },
     "metadata": {
      "needs_background": "light"
     },
     "output_type": "display_data"
    }
   ],
   "source": [
    "# virtualising the synthetic data\n",
    "plt.figure(1, figsize=(15, 6))\n",
    "n = 0\n",
    "for x in ['wheelbase', 'horsepower', 'price']:\n",
    "    n += 1\n",
    "    plt.subplot(1, 3, n)\n",
    "    plt.subplots_adjust(hspace=1, wspace=0.2)\n",
    "    plt.hist(synthetic_df[x])\n",
    "    plt.title('Distribution of {} (synthesised)'.format(x))\n",
    "    plt.xlabel(x)\n",
    "    plt.ylabel('number of car')\n",
    "plt.show()"
   ]
  },
  {
   "cell_type": "code",
   "execution_count": 33,
   "id": "1bed20ac",
   "metadata": {},
   "outputs": [
    {
     "data": {
      "image/png": "[encoded data removed]",
      "text/plain": [
       "<Figure size 1080x432 with 1 Axes>"
      ]
     },
     "metadata": {
      "needs_background": "light"
     },
     "output_type": "display_data"
    }
   ],
   "source": [
    "synthetic_make_dictionary = synthetic_df['make'].value_counts()\n",
    "synthetic_brands = synthetic_make_dictionary.keys().values.tolist()\n",
    "synthetic_brands_count = synthetic_make_dictionary.values\n",
    "plt.figure(1, figsize=(15, 6))\n",
    "plt.barh(synthetic_brands, synthetic_brands_count, 0.5)\n",
    "plt.title('Distribution of car brands (synthesised)')\n",
    "plt.xlabel('car brands')\n",
    "plt.ylabel('number of car')\n",
    "plt.show()"
   ]
  }
 ],
 "metadata": {
  "kernelspec": {
   "display_name": "Python 3",
   "language": "python",
   "name": "python3"
  },
  "language_info": {
   "codemirror_mode": {
    "name": "ipython",
    "version": 3
   },
   "file_extension": ".py",
   "mimetype": "text/x-python",
   "name": "python",
   "nbconvert_exporter": "python",
   "pygments_lexer": "ipython3",
   "version": "3.8.8"
  }
 },
 "nbformat": 4,
 "nbformat_minor": 5
}
